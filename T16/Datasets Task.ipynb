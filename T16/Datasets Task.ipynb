{
 "cells": [
  {
   "cell_type": "markdown",
   "metadata": {
    "id": "_yS6VSYNQlRV"
   },
   "source": [
    "# Compulsory Task"
   ]
  },
  {
   "cell_type": "markdown",
   "metadata": {
    "id": "xxJgNn26RYXy"
   },
   "source": [
    "In this compulsory task you will use pandas to select data from a dataset and explain the data retrieved for a given line of code."
   ]
  },
  {
   "cell_type": "code",
   "execution_count": 3,
   "metadata": {
    "id": "tJYiNSV2MeX3"
   },
   "outputs": [],
   "source": [
    "import pandas as pd"
   ]
  },
  {
   "cell_type": "markdown",
   "metadata": {
    "id": "a7Kn2dBSMojX"
   },
   "source": [
    "You will use the same `balance.txt` dataset used in the example Jupyter notebook. Remember to ensure it is in the same folder as this notebook."
   ]
  },
  {
   "cell_type": "code",
   "execution_count": 7,
   "metadata": {
    "id": "JMyj6fTSMiNr"
   },
   "outputs": [
    {
     "name": "stdout",
     "output_type": "stream",
     "text": [
      "Index(['Balance', 'Income', 'Limit', 'Rating', 'Cards', 'Age', 'Education',\n",
      "       'Gender', 'Student', 'Married', 'Ethnicity'],\n",
      "      dtype='object')\n"
     ]
    }
   ],
   "source": [
    "df = pd.read_csv('balance.txt',sep=' ')\n",
    "# Print all columns\n",
    "print(df.columns)"
   ]
  },
  {
   "cell_type": "markdown",
   "metadata": {
    "id": "BKTMPK2USayL"
   },
   "source": [
    "1. Write the code that performs the action described in the following statements."
   ]
  },
  {
   "cell_type": "code",
   "execution_count": 9,
   "metadata": {
    "id": "j_ic1wpxMCmu"
   },
   "outputs": [
    {
     "data": {
      "text/html": [
       "<div>\n",
       "<style scoped>\n",
       "    .dataframe tbody tr th:only-of-type {\n",
       "        vertical-align: middle;\n",
       "    }\n",
       "\n",
       "    .dataframe tbody tr th {\n",
       "        vertical-align: top;\n",
       "    }\n",
       "\n",
       "    .dataframe thead th {\n",
       "        text-align: right;\n",
       "    }\n",
       "</style>\n",
       "<table border=\"1\" class=\"dataframe\">\n",
       "  <thead>\n",
       "    <tr style=\"text-align: right;\">\n",
       "      <th></th>\n",
       "      <th>Limit</th>\n",
       "      <th>Rating</th>\n",
       "    </tr>\n",
       "  </thead>\n",
       "  <tbody>\n",
       "    <tr>\n",
       "      <th>0</th>\n",
       "      <td>3606</td>\n",
       "      <td>283</td>\n",
       "    </tr>\n",
       "    <tr>\n",
       "      <th>1</th>\n",
       "      <td>6645</td>\n",
       "      <td>483</td>\n",
       "    </tr>\n",
       "    <tr>\n",
       "      <th>2</th>\n",
       "      <td>7075</td>\n",
       "      <td>514</td>\n",
       "    </tr>\n",
       "    <tr>\n",
       "      <th>3</th>\n",
       "      <td>9504</td>\n",
       "      <td>681</td>\n",
       "    </tr>\n",
       "    <tr>\n",
       "      <th>4</th>\n",
       "      <td>4897</td>\n",
       "      <td>357</td>\n",
       "    </tr>\n",
       "  </tbody>\n",
       "</table>\n",
       "</div>"
      ],
      "text/plain": [
       "   Limit  Rating\n",
       "0   3606     283\n",
       "1   6645     483\n",
       "2   7075     514\n",
       "3   9504     681\n",
       "4   4897     357"
      ]
     },
     "execution_count": 9,
     "metadata": {},
     "output_type": "execute_result"
    }
   ],
   "source": [
    "# Select the 'Limit' and 'Rating' columns of the first five observations\n",
    "col_limit_rating = df[['Limit', 'Rating']]\n",
    "col_limit_rating.head(5)\n"
   ]
  },
  {
   "cell_type": "code",
   "execution_count": 13,
   "metadata": {
    "id": "H8JeFeHRMWfL"
   },
   "outputs": [
    {
     "name": "stdout",
     "output_type": "stream",
     "text": [
      "      Balance   Income  Limit  Rating  Cards  Age  Education  Gender Student  \\\n",
      "2   22.530409  104.593   7075     514      4   71         11    Male      No   \n",
      "5   22.486178   80.180   8047     569      4   77         10    Male      No   \n",
      "10  13.994990   63.095   8117     589      4   30         14    Male      No   \n",
      "20   9.853100   17.700   2860     235      4   63         16  Female      No   \n",
      "29  14.007770   26.813   5611     411      4   55         16  Female      No   \n",
      "\n",
      "   Married  Ethnicity  \n",
      "2       No      Asian  \n",
      "5       No  Caucasian  \n",
      "10     Yes  Caucasian  \n",
      "20      No      Asian  \n",
      "29      No  Caucasian  \n"
     ]
    }
   ],
   "source": [
    "# Select the first five observations with 4 cards\n",
    "rows_card_4 = df[df['Cards'] == 4]\n",
    "print(rows_card_4.head(5))\n",
    "\n"
   ]
  },
  {
   "cell_type": "code",
   "execution_count": 21,
   "metadata": {
    "id": "CH3AvNv6MY8d"
   },
   "outputs": [
    {
     "data": {
      "text/html": [
       "<div>\n",
       "<style scoped>\n",
       "    .dataframe tbody tr th:only-of-type {\n",
       "        vertical-align: middle;\n",
       "    }\n",
       "\n",
       "    .dataframe tbody tr th {\n",
       "        vertical-align: top;\n",
       "    }\n",
       "\n",
       "    .dataframe thead th {\n",
       "        text-align: right;\n",
       "    }\n",
       "</style>\n",
       "<table border=\"1\" class=\"dataframe\">\n",
       "  <thead>\n",
       "    <tr style=\"text-align: right;\">\n",
       "      <th></th>\n",
       "      <th>Balance</th>\n",
       "      <th>Income</th>\n",
       "      <th>Limit</th>\n",
       "      <th>Rating</th>\n",
       "      <th>Cards</th>\n",
       "      <th>Age</th>\n",
       "      <th>Education</th>\n",
       "      <th>Gender</th>\n",
       "      <th>Student</th>\n",
       "      <th>Married</th>\n",
       "      <th>Ethnicity</th>\n",
       "    </tr>\n",
       "  </thead>\n",
       "  <tbody>\n",
       "    <tr>\n",
       "      <th>60</th>\n",
       "      <td>13.297283</td>\n",
       "      <td>35.510</td>\n",
       "      <td>5198</td>\n",
       "      <td>364</td>\n",
       "      <td>2</td>\n",
       "      <td>35</td>\n",
       "      <td>20</td>\n",
       "      <td>Female</td>\n",
       "      <td>No</td>\n",
       "      <td>No</td>\n",
       "      <td>Asian</td>\n",
       "    </tr>\n",
       "    <tr>\n",
       "      <th>51</th>\n",
       "      <td>13.010768</td>\n",
       "      <td>39.705</td>\n",
       "      <td>3969</td>\n",
       "      <td>301</td>\n",
       "      <td>2</td>\n",
       "      <td>27</td>\n",
       "      <td>20</td>\n",
       "      <td>Male</td>\n",
       "      <td>No</td>\n",
       "      <td>Yes</td>\n",
       "      <td>African American</td>\n",
       "    </tr>\n",
       "    <tr>\n",
       "      <th>378</th>\n",
       "      <td>10.140785</td>\n",
       "      <td>19.349</td>\n",
       "      <td>4941</td>\n",
       "      <td>366</td>\n",
       "      <td>1</td>\n",
       "      <td>33</td>\n",
       "      <td>19</td>\n",
       "      <td>Male</td>\n",
       "      <td>No</td>\n",
       "      <td>Yes</td>\n",
       "      <td>Caucasian</td>\n",
       "    </tr>\n",
       "    <tr>\n",
       "      <th>247</th>\n",
       "      <td>13.774598</td>\n",
       "      <td>36.364</td>\n",
       "      <td>2220</td>\n",
       "      <td>188</td>\n",
       "      <td>3</td>\n",
       "      <td>50</td>\n",
       "      <td>19</td>\n",
       "      <td>Male</td>\n",
       "      <td>No</td>\n",
       "      <td>No</td>\n",
       "      <td>Caucasian</td>\n",
       "    </tr>\n",
       "    <tr>\n",
       "      <th>238</th>\n",
       "      <td>11.079748</td>\n",
       "      <td>26.532</td>\n",
       "      <td>2910</td>\n",
       "      <td>236</td>\n",
       "      <td>6</td>\n",
       "      <td>58</td>\n",
       "      <td>19</td>\n",
       "      <td>Female</td>\n",
       "      <td>No</td>\n",
       "      <td>Yes</td>\n",
       "      <td>Caucasian</td>\n",
       "    </tr>\n",
       "    <tr>\n",
       "      <th>...</th>\n",
       "      <td>...</td>\n",
       "      <td>...</td>\n",
       "      <td>...</td>\n",
       "      <td>...</td>\n",
       "      <td>...</td>\n",
       "      <td>...</td>\n",
       "      <td>...</td>\n",
       "      <td>...</td>\n",
       "      <td>...</td>\n",
       "      <td>...</td>\n",
       "      <td>...</td>\n",
       "    </tr>\n",
       "    <tr>\n",
       "      <th>284</th>\n",
       "      <td>8.298482</td>\n",
       "      <td>14.711</td>\n",
       "      <td>2047</td>\n",
       "      <td>167</td>\n",
       "      <td>2</td>\n",
       "      <td>67</td>\n",
       "      <td>6</td>\n",
       "      <td>Male</td>\n",
       "      <td>No</td>\n",
       "      <td>Yes</td>\n",
       "      <td>Caucasian</td>\n",
       "    </tr>\n",
       "    <tr>\n",
       "      <th>368</th>\n",
       "      <td>19.555838</td>\n",
       "      <td>89.000</td>\n",
       "      <td>5759</td>\n",
       "      <td>440</td>\n",
       "      <td>3</td>\n",
       "      <td>37</td>\n",
       "      <td>6</td>\n",
       "      <td>Female</td>\n",
       "      <td>No</td>\n",
       "      <td>No</td>\n",
       "      <td>Caucasian</td>\n",
       "    </tr>\n",
       "    <tr>\n",
       "      <th>224</th>\n",
       "      <td>25.262836</td>\n",
       "      <td>121.709</td>\n",
       "      <td>7818</td>\n",
       "      <td>584</td>\n",
       "      <td>4</td>\n",
       "      <td>50</td>\n",
       "      <td>6</td>\n",
       "      <td>Male</td>\n",
       "      <td>No</td>\n",
       "      <td>Yes</td>\n",
       "      <td>Caucasian</td>\n",
       "    </tr>\n",
       "    <tr>\n",
       "      <th>254</th>\n",
       "      <td>13.997826</td>\n",
       "      <td>36.508</td>\n",
       "      <td>6386</td>\n",
       "      <td>469</td>\n",
       "      <td>4</td>\n",
       "      <td>79</td>\n",
       "      <td>6</td>\n",
       "      <td>Female</td>\n",
       "      <td>No</td>\n",
       "      <td>Yes</td>\n",
       "      <td>Caucasian</td>\n",
       "    </tr>\n",
       "    <tr>\n",
       "      <th>30</th>\n",
       "      <td>10.201523</td>\n",
       "      <td>34.142</td>\n",
       "      <td>5666</td>\n",
       "      <td>413</td>\n",
       "      <td>4</td>\n",
       "      <td>47</td>\n",
       "      <td>5</td>\n",
       "      <td>Female</td>\n",
       "      <td>No</td>\n",
       "      <td>Yes</td>\n",
       "      <td>Caucasian</td>\n",
       "    </tr>\n",
       "  </tbody>\n",
       "</table>\n",
       "<p>400 rows × 11 columns</p>\n",
       "</div>"
      ],
      "text/plain": [
       "       Balance   Income  Limit  Rating  Cards  Age  Education  Gender Student  \\\n",
       "60   13.297283   35.510   5198     364      2   35         20  Female      No   \n",
       "51   13.010768   39.705   3969     301      2   27         20    Male      No   \n",
       "378  10.140785   19.349   4941     366      1   33         19    Male      No   \n",
       "247  13.774598   36.364   2220     188      3   50         19    Male      No   \n",
       "238  11.079748   26.532   2910     236      6   58         19  Female      No   \n",
       "..         ...      ...    ...     ...    ...  ...        ...     ...     ...   \n",
       "284   8.298482   14.711   2047     167      2   67          6    Male      No   \n",
       "368  19.555838   89.000   5759     440      3   37          6  Female      No   \n",
       "224  25.262836  121.709   7818     584      4   50          6    Male      No   \n",
       "254  13.997826   36.508   6386     469      4   79          6  Female      No   \n",
       "30   10.201523   34.142   5666     413      4   47          5  Female      No   \n",
       "\n",
       "    Married         Ethnicity  \n",
       "60       No             Asian  \n",
       "51      Yes  African American  \n",
       "378     Yes         Caucasian  \n",
       "247      No         Caucasian  \n",
       "238     Yes         Caucasian  \n",
       "..      ...               ...  \n",
       "284     Yes         Caucasian  \n",
       "368      No         Caucasian  \n",
       "224     Yes         Caucasian  \n",
       "254     Yes         Caucasian  \n",
       "30      Yes         Caucasian  \n",
       "\n",
       "[400 rows x 11 columns]"
      ]
     },
     "execution_count": 21,
     "metadata": {},
     "output_type": "execute_result"
    }
   ],
   "source": [
    "# Sort the observations by 'Education'. Show users with a high education value first.\n",
    "df.sort_values(by = 'Education', ascending = False)\n",
    "\n"
   ]
  },
  {
   "cell_type": "markdown",
   "metadata": {
    "id": "7D6UiDd8M3VA"
   },
   "source": [
    "2. Write a short explanation in the form of a comment for the following lines of code. For example:  \n",
    "```\n",
    "# Selects the first 5 rows, and all of the columns for those rows.\n",
    "df.iloc[:5,:]\n",
    "```"
   ]
  },
  {
   "cell_type": "code",
   "execution_count": null,
   "metadata": {
    "id": "2ER3T_1HM27b"
   },
   "outputs": [],
   "source": [
    "# Selects all rows and all columns from the dataframe\n",
    "df.iloc[:,:]"
   ]
  },
  {
   "cell_type": "code",
   "execution_count": null,
   "metadata": {
    "id": "-CaKYE9YM_1-"
   },
   "outputs": [],
   "source": [
    "# Selects first 5 rows and 5 columns for those rows\n",
    "df.iloc[5:,5:]"
   ]
  },
  {
   "cell_type": "code",
   "execution_count": null,
   "metadata": {
    "id": "jYTu3SJINTFP"
   },
   "outputs": [],
   "source": [
    "# Selects all rows and 1st columns(index = 0) for those rows\n",
    "df.iloc[:,0]"
   ]
  },
  {
   "cell_type": "code",
   "execution_count": null,
   "metadata": {
    "id": "YRVRGDCvNq6k"
   },
   "outputs": [],
   "source": [
    "# Selects first 9 rows and all columns for those rows\n",
    "df.iloc[9,:]"
   ]
  }
 ],
 "metadata": {
  "colab": {
   "provenance": []
  },
  "kernelspec": {
   "display_name": "Python 3 (ipykernel)",
   "language": "python",
   "name": "python3"
  },
  "language_info": {
   "codemirror_mode": {
    "name": "ipython",
    "version": 3
   },
   "file_extension": ".py",
   "mimetype": "text/x-python",
   "name": "python",
   "nbconvert_exporter": "python",
   "pygments_lexer": "ipython3",
   "version": "3.11.5"
  }
 },
 "nbformat": 4,
 "nbformat_minor": 1
}
